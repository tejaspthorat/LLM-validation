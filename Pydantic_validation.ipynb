{
  "nbformat": 4,
  "nbformat_minor": 0,
  "metadata": {
    "colab": {
      "provenance": []
    },
    "kernelspec": {
      "name": "python3",
      "display_name": "Python 3"
    },
    "language_info": {
      "name": "python"
    }
  },
  "cells": [
    {
      "cell_type": "markdown",
      "source": [
        "Pydantic validation of LLM response to make sure its in json format with right data types."
      ],
      "metadata": {
        "id": "JwufyYaIz4jM"
      }
    },
    {
      "cell_type": "code",
      "execution_count": 1,
      "metadata": {
        "colab": {
          "base_uri": "https://localhost:8080/"
        },
        "id": "EnpjAJ1eGMTH",
        "outputId": "3aeabb2f-34f3-4af8-a7fb-928db4981ac5"
      },
      "outputs": [
        {
          "output_type": "stream",
          "name": "stdout",
          "text": [
            "Requirement already satisfied: fireworks-ai in /usr/local/lib/python3.10/dist-packages (0.9.0)\n",
            "Requirement already satisfied: httpx in /usr/local/lib/python3.10/dist-packages (from fireworks-ai) (0.25.2)\n",
            "Requirement already satisfied: httpx-sse in /usr/local/lib/python3.10/dist-packages (from fireworks-ai) (0.3.1)\n",
            "Requirement already satisfied: pydantic in /usr/local/lib/python3.10/dist-packages (from fireworks-ai) (2.3.0)\n",
            "Requirement already satisfied: Pillow in /usr/local/lib/python3.10/dist-packages (from fireworks-ai) (9.4.0)\n",
            "Requirement already satisfied: anyio in /usr/local/lib/python3.10/dist-packages (from httpx->fireworks-ai) (3.7.1)\n",
            "Requirement already satisfied: certifi in /usr/local/lib/python3.10/dist-packages (from httpx->fireworks-ai) (2023.11.17)\n",
            "Requirement already satisfied: httpcore==1.* in /usr/local/lib/python3.10/dist-packages (from httpx->fireworks-ai) (1.0.2)\n",
            "Requirement already satisfied: idna in /usr/local/lib/python3.10/dist-packages (from httpx->fireworks-ai) (3.6)\n",
            "Requirement already satisfied: sniffio in /usr/local/lib/python3.10/dist-packages (from httpx->fireworks-ai) (1.3.0)\n",
            "Requirement already satisfied: h11<0.15,>=0.13 in /usr/local/lib/python3.10/dist-packages (from httpcore==1.*->httpx->fireworks-ai) (0.14.0)\n",
            "Requirement already satisfied: annotated-types>=0.4.0 in /usr/local/lib/python3.10/dist-packages (from pydantic->fireworks-ai) (0.6.0)\n",
            "Requirement already satisfied: pydantic-core==2.6.3 in /usr/local/lib/python3.10/dist-packages (from pydantic->fireworks-ai) (2.6.3)\n",
            "Requirement already satisfied: typing-extensions>=4.6.1 in /usr/local/lib/python3.10/dist-packages (from pydantic->fireworks-ai) (4.9.0)\n",
            "Requirement already satisfied: exceptiongroup in /usr/local/lib/python3.10/dist-packages (from anyio->httpx->fireworks-ai) (1.2.0)\n"
          ]
        }
      ],
      "source": [
        "!pip install --upgrade fireworks-ai"
      ]
    },
    {
      "cell_type": "code",
      "source": [
        "\n",
        "from pydantic import BaseModel\n",
        "import fireworks.client\n",
        "\n"
      ],
      "metadata": {
        "id": "veOrqBfYGSeQ"
      },
      "execution_count": 2,
      "outputs": []
    },
    {
      "cell_type": "code",
      "source": [
        "fireworks.client.api_key = \"W4etuSqWlXPUIa8gsuz8g9kCvz6KGNsSF4q8FePNjpBLOgfF\""
      ],
      "metadata": {
        "id": "rmpLE9IGGUSo"
      },
      "execution_count": 3,
      "outputs": []
    },
    {
      "cell_type": "markdown",
      "source": [
        "Web scrapping https://en.wikipedia.org/wiki/List_of_2023_box_office_number-one_films_in_the_United_States .\n",
        "I have only extracted data from the table\n",
        "\n"
      ],
      "metadata": {
        "id": "HdnNlmfC0XtG"
      }
    },
    {
      "cell_type": "code",
      "source": [
        "import requests\n",
        "from bs4 import BeautifulSoup\n",
        "\n",
        "def scrape_box_office(url):\n",
        "    response = requests.get(url)\n",
        "    if response.status_code == 200:\n",
        "        soup = BeautifulSoup(response.text, 'html.parser')\n",
        "        table = soup.find('table', {'class': 'wikitable'})\n",
        "        box_office_data = []\n",
        "        for row in table.find_all('tr')[1:]:\n",
        "            columns = row.find_all(['th', 'td'])\n",
        "            data = [column.get_text(strip=True) for column in columns]\n",
        "            box_office_data.append(data)\n",
        "\n",
        "        return box_office_data\n",
        "    else:\n",
        "        print(f\"Error: Unable to fetch data. Status Code: {response.status_code}\")\n",
        "\n",
        "url = 'https://en.wikipedia.org/wiki/List_of_2023_box_office_number-one_films_in_the_United_States'\n",
        "\n",
        "result = scrape_box_office(url)\n",
        "string = \"\"\n",
        "for row in result:\n",
        "    for i in range(len(row)):\n",
        "      if i==0:\n",
        "        pass\n",
        "      else:\n",
        "        string += row[i] + \" \"\n",
        "    string += '\\n'\n",
        "\n",
        "\n",
        "print(string)"
      ],
      "metadata": {
        "colab": {
          "base_uri": "https://localhost:8080/"
        },
        "id": "DfD2SK92GV9C",
        "outputId": "18a67028-d82c-4065-fa9e-a133fc08247a"
      },
      "execution_count": 4,
      "outputs": [
        {
          "output_type": "stream",
          "name": "stdout",
          "text": [
            "January 8, 2023 Avatar: The Way of Water $45,838,986 Black Panther: Wakanda ForeverandAvatar: The Way of Waterbecame the first two films to consecutively top the box office for four consecutive weekends each sinceThe Hunger Games: Mockingjay – Part 2andStar Wars: The Force Awakensin 2015 and 2016. [2] \n",
            "January 15, 2023 $32,824,684 Black Panther: Wakanda ForeverandAvatar: The Way of Waterbecame the first two films to consecutively top the box office for five consecutive weekends each sinceStakeoutandFatal Attractionin 1987. [3] \n",
            "January 22, 2023 $20,133,106 Avatar: The Way of Waterbecame the first film sinceAvatarto top the box office for six consecutive weekends. It also became the first film sinceSpider-Man: No Way Hometo top the box office in its sixth week of release, as well as for six total weekends. During the weekend, the film surpassed $2 billion at the global box office. [4] \n",
            "January 29, 2023 $15,968,532 Avatar: The Way of Waterbecame the first film sinceAvatarto top the box office for seven consecutive weekends, as well as the first film sinceSpider-Man: No Way Hometo top the box office in its seventh week of release. [5] \n",
            "February 5, 2023 Knock at the Cabin $14,127,170  [6] \n",
            "February 12, 2023 Magic Mike's Last Dance $8,305,317  [7] \n",
            "February 19, 2023 Ant-Man and the Wasp: Quantumania $106,109,650  [8] \n",
            "February 26, 2023 $31,964,803  [9] \n",
            "March 5, 2023 Creed III $58,370,007 Creed IIIbrokeCreed II's record ($35.2 million) for the highest weekend debut for aboxing film, as well asThe Longest Yard's record ($47.6 million) for the highest weekend debut for asports film. [10] \n",
            "March 12, 2023 Scream VI $44,447,270  [11] \n",
            "March 19, 2023 Shazam! Fury of the Gods $30,111,158  [12] \n",
            "March 26, 2023 John Wick: Chapter 4 $73,817,950  [13] \n",
            "April 2, 2023 Dungeons & Dragons: Honor Among Thieves $37,205,784  [14] \n",
            "April 9, 2023 The Super Mario Bros. Movie $146,361,865 The Super Mario Bros. MoviebrokeSonic the Hedgehog 2's record ($72.1 million) for the highest weekend debut for a video game adaptation as well as surpassing the former's lifetime gross ($190.9 million) to become the highest grossing video game adaptation of all time at the domestic box office. It also brokeThe Secret Life of Pets'record ($104.3 million) for the highest weekend debut for a non-sequel animated film. Its worldwide opening weekend ($377 million) brokeFrozen II's record ($358.5 million) for the highest worldwide opening weekend for an animated film. [15] \n",
            "April 16, 2023 $92,347,190 The Super Mario Bros. MoviebrokeFrozen II's record ($85.9 million) for the highest second weekend gross for an animated film. It also surpassedWarcraftto become the highest-grossing video game adaptation of all time at the global box office. [16] \n",
            "April 23, 2023 $59,930,940 The Super Mario Bros. MoviebrokeIncredibles 2's record ($46.4 million) for the highest third weekend gross for an animated film. [17] \n",
            "April 30, 2023 $40,835,805 The Super Mario Bros. MoviebrokeIncredibles 2's record ($28.4 million) for the highest fourth weekend gross for an animated film. It also became the first film sinceAvatar: The Way of Waterto top the box office for four consecutive weekends and the first animated film to pass $1 billion at the global box office sinceFrozen II. [18] \n",
            "May 7, 2023 Guardians of the Galaxy Vol. 3 $118,414,021  [19] \n",
            "May 14, 2023 $62,008,548  [20] \n",
            "May 21, 2023 Fast X $67,017,410  [21] \n",
            "May 28, 2023 The Little Mermaid $95,578,040  [22] \n",
            "June 4, 2023 Spider-Man: Across the Spider-Verse $120,663,589  [23] \n",
            "June 11, 2023 Transformers: Rise of the Beasts $61,045,464  [24] \n",
            "June 18, 2023 The Flash $55,043,679  [25] \n",
            "June 25, 2023 Spider-Man: Across the Spider-Verse $19,003,633 Spider-Man: Across the Spider-Versereclaimed the #1 spot in its fourth weekend of release, making it the first film sinceThe Super Mario Bros. Movieto top the box office in its fourth weekend. [26] \n",
            "July 2, 2023 Indiana Jones and the Dial of Destiny $60,368,101  [27] \n",
            "July 9, 2023 Insidious: The Red Door $33,013,036  [28] \n",
            "July 16, 2023 Mission: Impossible – Dead Reckoning Part One $54,688,347  [29] \n",
            "July 23, 2023 Barbie $162,022,044 BarbiebrokeThe Hangover Part II's record ($85.9 million) for the highest weekend debut for a live-action comedy,Captain Marvel's record ($153 million) for the highest weekend debut for a female-directed film,Transformers: Revenge of the Fallen'srecord ($108.9 million) for highest opening for a film based on a toy, andThe Dark Knight Rises'record ($160.8 million) for the highest weekend debut for a non-3D film. It currently has the highest weekend debut of 2023. [30] \n",
            "July 30, 2023 $93,011,602 Barbiehad the biggest second weekend for a film sinceAvengers: Endgame($147.4 million). [31] \n",
            "August 6, 2023 $53,008,647  [32] \n",
            "August 13, 2023 $33,833,294 Barbiebecame the first film sinceThe Super Mario Bros. Movieto top the box office for four consecutive weekends. [33] \n",
            "August 20, 2023 Blue Beetle $25,030,225 During the week,OppenheimersurpassedSingto become the highest grossing film to never hit #1. [34] \n",
            "August 27, 2023 Gran Turismo $17,410,552  [35] \n",
            "September 3, 2023 The Equalizer 3 $34,604,229  [36] \n",
            "September 10, 2023 The Nun II $32,603,336  [37] \n",
            "September 17, 2023 $14,534,579 During the weekend,Oppenheimer's worldwide total ($912.7 million) surpassedBohemian Rhapsody's total ($902 million) as the all-time highest-grossing biopic film. [38] \n",
            "September 24, 2023 $8,550,110  [39] \n",
            "October 1, 2023 PAW Patrol: The Mighty Movie $22,764,354  [40] \n",
            "October 8, 2023 The Exorcist: Believer $26,497,600  [41] \n",
            "October 15, 2023 Taylor Swift: The Eras Tour $92,804,678 Taylor Swift: The Eras TourbrokeHannah Montana and Miley Cyrus: Best of Both Worlds Concert Tour's record ($31.1 million) for the highest weekend debut for a concert film. It became the highest-grossing concert film of all time worldwide as well, breakingJustin Bieber: Never Say Never's record ($99.0 million). [42] \n",
            "October 22, 2023 $33,209,039 Taylor Swift: The Eras Tourbecame the first concert film to top the box office for two weekends. [43] \n",
            "October 29, 2023 Five Nights at Freddy's $80,001,720 Simultaneously released onPeacock.Five Nights at Freddy'sbrokePuss in Boots'record ($34.1 million) for the highestHalloweenopening weekend. It also brokeSonic The Hedgehog 2's record ($72.1 million) for the highest opening weekend for a live-action video game adaptation. [44] \n",
            "November 5, 2023 $19,001,870  [45] \n",
            "November 12, 2023 The Marvels $46,110,859  [46] \n",
            "November 19, 2023 The Hunger Games: The Ballad of Songbirds & Snakes $44,607,143  [47] \n",
            "November 26, 2023 $29,042,517  [48] \n",
            "December 3, 2023 Renaissance: A Film by Beyoncé $21,801,216  [49] \n",
            "December 10, 2023 The Boy and the Heron $13,011,722 The Boy and the Heronbecame the first foreign language film as well as the first Japanese animated film sinceDragon Ball Super: Super Heroto reach #1 at the box office. [50] \n",
            "December 17, 2023 Wonka $39,000,000   \n",
            "\n"
          ]
        }
      ]
    },
    {
      "cell_type": "markdown",
      "source": [
        "Specifying a pydantic schema"
      ],
      "metadata": {
        "id": "iVDfYmR50qli"
      }
    },
    {
      "cell_type": "code",
      "source": [
        "from pydantic import BaseModel, ValidationError\n",
        "import json\n",
        "class WebScrape1(BaseModel):\n",
        "    date: str\n",
        "    film: str\n",
        "    gross: int"
      ],
      "metadata": {
        "id": "HmgM_tdsGXxe"
      },
      "execution_count": 5,
      "outputs": []
    },
    {
      "cell_type": "code",
      "source": [
        "response_schema_dict = WebScrape1.model_json_schema()\n",
        "response_schema_json = json.dumps(response_schema_dict)\n",
        "response_schema_json"
      ],
      "metadata": {
        "colab": {
          "base_uri": "https://localhost:8080/",
          "height": 70
        },
        "id": "R7UWt0LuGoaU",
        "outputId": "d20fc9ab-ab8f-4389-9779-50498f842c55"
      },
      "execution_count": 6,
      "outputs": [
        {
          "output_type": "execute_result",
          "data": {
            "text/plain": [
              "'{\"properties\": {\"date\": {\"title\": \"Date\", \"type\": \"string\"}, \"film\": {\"title\": \"Film\", \"type\": \"string\"}, \"gross\": {\"title\": \"Gross\", \"type\": \"integer\"}}, \"required\": [\"date\", \"film\", \"gross\"], \"title\": \"WebScrape1\", \"type\": \"object\"}'"
            ],
            "application/vnd.google.colaboratory.intrinsic+json": {
              "type": "string"
            }
          },
          "metadata": {},
          "execution_count": 6
        }
      ]
    },
    {
      "cell_type": "markdown",
      "source": [
        "Creating a prompt"
      ],
      "metadata": {
        "id": "RTzIvwjN0xCd"
      }
    },
    {
      "cell_type": "code",
      "source": [
        "question = \"1 January 8, 2023 Avatar: The Way of Water $45,838,986 Black Panther: Wakanda ForeverandAvatar: The Way of Waterbecame the first two films to consecutively top the box office for four consecutive weekends each sinceThe Hunger Games: Mockingjay – Part 2andStar Wars: The Force Awakensin 2015 and 2016. [2] \"\n",
        "prompt = f\"\"\"I will provide you with a unstructured data and you have to convert it into the following format and Do not include the provided properties json in the output:\n",
        "```json\n",
        "{response_schema_dict}\n",
        "```\n",
        "Make sure you only have the required json as output and no other text.\n",
        "\n",
        "Data: {string}\n",
        "\n",
        "only generate extracted data json.\n",
        "The provided format should be strictly followed.\n",
        "\n",
        "\"\"\""
      ],
      "metadata": {
        "id": "_a-FoAUHGx4i"
      },
      "execution_count": 7,
      "outputs": []
    },
    {
      "cell_type": "code",
      "source": [
        "prompt"
      ],
      "metadata": {
        "colab": {
          "base_uri": "https://localhost:8080/",
          "height": 192
        },
        "id": "QJ_Cql1JK4Px",
        "outputId": "247cf0f8-c370-487d-bf26-4fc466cc4f32"
      },
      "execution_count": 8,
      "outputs": [
        {
          "output_type": "execute_result",
          "data": {
            "text/plain": [
              "\"I will provide you with a unstructured data and you have to convert it into the following format and Do not include the provided properties json in the output:\\n```json\\n{'properties': {'date': {'title': 'Date', 'type': 'string'}, 'film': {'title': 'Film', 'type': 'string'}, 'gross': {'title': 'Gross', 'type': 'integer'}}, 'required': ['date', 'film', 'gross'], 'title': 'WebScrape1', 'type': 'object'}\\n```\\nMake sure you only have the required json as output and no other text.\\n\\nData: January 8, 2023 Avatar: The Way of Water $45,838,986 Black Panther: Wakanda ForeverandAvatar: The Way of Waterbecame the first two films to consecutively top the box office for four consecutive weekends each sinceThe Hunger Games: Mockingjay – Part 2andStar Wars: The Force Awakensin 2015 and 2016. [2] \\nJanuary 15, 2023 $32,824,684 Black Panther: Wakanda ForeverandAvatar: The Way of Waterbecame the first two films to consecutively top the box office for five consecutive weekends each sinceStakeoutandFatal Attractionin 1987. [3] \\nJanuary 22, 2023 $20,133,106 Avatar: The Way of Waterbecame the first film sinceAvatarto top the box office for six consecutive weekends. It also became the first film sinceSpider-Man: No Way Hometo top the box office in its sixth week of release, as well as for six total weekends. During the weekend, the film surpassed $2 billion at the global box office. [4] \\nJanuary 29, 2023 $15,968,532 Avatar: The Way of Waterbecame the first film sinceAvatarto top the box office for seven consecutive weekends, as well as the first film sinceSpider-Man: No Way Hometo top the box office in its seventh week of release. [5] \\nFebruary 5, 2023 Knock at the Cabin $14,127,170  [6] \\nFebruary 12, 2023 Magic Mike's Last Dance $8,305,317  [7] \\nFebruary 19, 2023 Ant-Man and the Wasp: Quantumania $106,109,650  [8] \\nFebruary 26, 2023 $31,964,803  [9] \\nMarch 5, 2023 Creed III $58,370,007 Creed IIIbrokeCreed II's record ($35.2 million) for the highest weekend debut for aboxing film, as well asThe Longest Yard's record ($47.6 million) for the highest weekend debut for asports film. [10] \\nMarch 12, 2023 Scream VI $44,447,270  [11] \\nMarch 19, 2023 Shazam! Fury of the Gods $30,111,158  [12] \\nMarch 26, 2023 John Wick: Chapter 4 $73,817,950  [13] \\nApril 2, 2023 Dungeons & Dragons: Honor Among Thieves $37,205,784  [14] \\nApril 9, 2023 The Super Mario Bros. Movie $146,361,865 The Super Mario Bros. MoviebrokeSonic the Hedgehog 2's record ($72.1 million) for the highest weekend debut for a video game adaptation as well as surpassing the former's lifetime gross ($190.9 million) to become the highest grossing video game adaptation of all time at the domestic box office. It also brokeThe Secret Life of Pets'record ($104.3 million) for the highest weekend debut for a non-sequel animated film. Its worldwide opening weekend ($377 million) brokeFrozen II's record ($358.5 million) for the highest worldwide opening weekend for an animated film. [15] \\nApril 16, 2023 $92,347,190 The Super Mario Bros. MoviebrokeFrozen II's record ($85.9 million) for the highest second weekend gross for an animated film. It also surpassedWarcraftto become the highest-grossing video game adaptation of all time at the global box office. [16] \\nApril 23, 2023 $59,930,940 The Super Mario Bros. MoviebrokeIncredibles 2's record ($46.4 million) for the highest third weekend gross for an animated film. [17] \\nApril 30, 2023 $40,835,805 The Super Mario Bros. MoviebrokeIncredibles 2's record ($28.4 million) for the highest fourth weekend gross for an animated film. It also became the first film sinceAvatar: The Way of Waterto top the box office for four consecutive weekends and the first animated film to pass $1 billion at the global box office sinceFrozen II. [18] \\nMay 7, 2023 Guardians of the Galaxy Vol. 3 $118,414,021  [19] \\nMay 14, 2023 $62,008,548  [20] \\nMay 21, 2023 Fast X $67,017,410  [21] \\nMay 28, 2023 The Little Mermaid $95,578,040  [22] \\nJune 4, 2023 Spider-Man: Across the Spider-Verse $120,663,589  [23] \\nJune 11, 2023 Transformers: Rise of the Beasts $61,045,464  [24] \\nJune 18, 2023 The Flash $55,043,679  [25] \\nJune 25, 2023 Spider-Man: Across the Spider-Verse $19,003,633 Spider-Man: Across the Spider-Versereclaimed the #1 spot in its fourth weekend of release, making it the first film sinceThe Super Mario Bros. Movieto top the box office in its fourth weekend. [26] \\nJuly 2, 2023 Indiana Jones and the Dial of Destiny $60,368,101  [27] \\nJuly 9, 2023 Insidious: The Red Door $33,013,036  [28] \\nJuly 16, 2023 Mission: Impossible – Dead Reckoning Part One $54,688,347  [29] \\nJuly 23, 2023 Barbie $162,022,044 BarbiebrokeThe Hangover Part II's record ($85.9 million) for the highest weekend debut for a live-action comedy,Captain Marvel's record ($153 million) for the highest weekend debut for a female-directed film,Transformers: Revenge of the Fallen'srecord ($108.9 million) for highest opening for a film based on a toy, andThe Dark Knight Rises'record ($160.8 million) for the highest weekend debut for a non-3D film. It currently has the highest weekend debut of 2023. [30] \\nJuly 30, 2023 $93,011,602 Barbiehad the biggest second weekend for a film sinceAvengers: Endgame($147.4 million). [31] \\nAugust 6, 2023 $53,008,647  [32] \\nAugust 13, 2023 $33,833,294 Barbiebecame the first film sinceThe Super Mario Bros. Movieto top the box office for four consecutive weekends. [33] \\nAugust 20, 2023 Blue Beetle $25,030,225 During the week,OppenheimersurpassedSingto become the highest grossing film to never hit #1. [34] \\nAugust 27, 2023 Gran Turismo $17,410,552  [35] \\nSeptember 3, 2023 The Equalizer 3 $34,604,229  [36] \\nSeptember 10, 2023 The Nun II $32,603,336  [37] \\nSeptember 17, 2023 $14,534,579 During the weekend,Oppenheimer's worldwide total ($912.7 million) surpassedBohemian Rhapsody's total ($902 million) as the all-time highest-grossing biopic film. [38] \\nSeptember 24, 2023 $8,550,110  [39] \\nOctober 1, 2023 PAW Patrol: The Mighty Movie $22,764,354  [40] \\nOctober 8, 2023 The Exorcist: Believer $26,497,600  [41] \\nOctober 15, 2023 Taylor Swift: The Eras Tour $92,804,678 Taylor Swift: The Eras TourbrokeHannah Montana and Miley Cyrus: Best of Both Worlds Concert Tour's record ($31.1 million) for the highest weekend debut for a concert film. It became the highest-grossing concert film of all time worldwide as well, breakingJustin Bieber: Never Say Never's record ($99.0 million). [42] \\nOctober 22, 2023 $33,209,039 Taylor Swift: The Eras Tourbecame the first concert film to top the box office for two weekends. [43] \\nOctober 29, 2023 Five Nights at Freddy's $80,001,720 Simultaneously released onPeacock.Five Nights at Freddy'sbrokePuss in Boots'record ($34.1 million) for the highestHalloweenopening weekend. It also brokeSonic The Hedgehog 2's record ($72.1 million) for the highest opening weekend for a live-action video game adaptation. [44] \\nNovember 5, 2023 $19,001,870  [45] \\nNovember 12, 2023 The Marvels $46,110,859  [46] \\nNovember 19, 2023 The Hunger Games: The Ballad of Songbirds & Snakes $44,607,143  [47] \\nNovember 26, 2023 $29,042,517  [48] \\nDecember 3, 2023 Renaissance: A Film by Beyoncé $21,801,216  [49] \\nDecember 10, 2023 The Boy and the Heron $13,011,722 The Boy and the Heronbecame the first foreign language film as well as the first Japanese animated film sinceDragon Ball Super: Super Heroto reach #1 at the box office. [50] \\nDecember 17, 2023 Wonka $39,000,000   \\n\\n\\nonly generate extracted data json. \\nThe provided format should be strictly followed.\\n\\n\""
            ],
            "application/vnd.google.colaboratory.intrinsic+json": {
              "type": "string"
            }
          },
          "metadata": {},
          "execution_count": 8
        }
      ]
    },
    {
      "cell_type": "markdown",
      "source": [
        "Creating functions for text generation and error handling"
      ],
      "metadata": {
        "id": "MDMWu_vO043T"
      }
    },
    {
      "cell_type": "code",
      "source": [
        "def askLLM(prompt):\n",
        "    completion = fireworks.client.ChatCompletion.create(\n",
        "    model=\"accounts/fireworks/models/mixtral-8x7b-instruct\",\n",
        "    messages=[\n",
        "      {\n",
        "        \"role\": \"user\",\n",
        "        \"content\": prompt,\n",
        "      }\n",
        "    ],\n",
        "    n=1,\n",
        "    max_tokens=4000,\n",
        "    temperature=0.1,\n",
        "    top_p=0.9,\n",
        "   )\n",
        "    return completion.choices[0].message.content\n",
        "\n",
        "\n",
        "def handle_validation_failure(error, prompt, num_tries):\n",
        "  if num_tries > 3:\n",
        "    return \"Couldnt validate LLM response\"\n",
        "  else:\n",
        "    out = askLLM(error + prompt+ \"Make sure the output is json\")\n",
        "    print(out)\n",
        "    return out\n"
      ],
      "metadata": {
        "id": "iGKn1PypqrRP"
      },
      "execution_count": 9,
      "outputs": []
    },
    {
      "cell_type": "markdown",
      "source": [
        "Providing initial prompt and viewing the results"
      ],
      "metadata": {
        "id": "WY39Ie5_1ff7"
      }
    },
    {
      "cell_type": "code",
      "source": [
        "completion = askLLM(prompt)"
      ],
      "metadata": {
        "id": "mwfHbJX2K5u6"
      },
      "execution_count": 10,
      "outputs": []
    },
    {
      "cell_type": "code",
      "source": [
        "completion"
      ],
      "metadata": {
        "colab": {
          "base_uri": "https://localhost:8080/",
          "height": 192
        },
        "id": "WCcB5Sz3LXQu",
        "outputId": "8fe138e8-2681-4290-b6ac-a4637a372ee0"
      },
      "execution_count": 11,
      "outputs": [
        {
          "output_type": "execute_result",
          "data": {
            "text/plain": [
              "'[\\n{\\n\"properties\": {\\n\"date\": {\\n\"title\": \"Date\",\\n\"type\": \"string\"\\n},\\n\"film\": {\\n\"title\": \"Film\",\\n\"type\": \"string\"\\n},\\n\"gross\": {\\n\"title\": \"Gross\",\\n\"type\": \"integer\"\\n}\\n},\\n\"required\": [\\n\"date\",\\n\"film\",\\n\"gross\"\\n],\\n\"type\": \"object\",\\n\"title\": \"WebScrape1\",\\n\"data\": [\\n{\\n\"date\": \"January 8, 2023\",\\n\"film\": \"Avatar: The Way of Water\",\\n\"gross\": 45838986\\n},\\n{\\n\"date\": \"January 15, 2023\",\\n\"film\": \"Black Panther: Wakanda Forever\",\\n\"gross\": 32824684\\n},\\n{\\n\"date\": \"January 15, 2023\",\\n\"film\": \"Avatar: The Way of Water\",\\n\"gross\": 32824684\\n},\\n{\\n\"date\": \"January 22, 2023\",\\n\"film\": \"Avatar: The Way of Water\",\\n\"gross\": 20133106\\n},\\n{\\n\"date\": \"January 29, 2023\",\\n\"film\": \"Avatar: The Way of Water\",\\n\"gross\": 15968532\\n},\\n{\\n\"date\": \"February 5, 2023\",\\n\"film\": \"Knock at the Cabin\",\\n\"gross\": 14127170\\n},\\n{\\n\"date\": \"February 12, 2023\",\\n\"film\": \"Magic Mike\\'s Last Dance\",\\n\"gross\": 8305317\\n},\\n{\\n\"date\": \"February 19, 2023\",\\n\"film\": \"Ant-Man and the Wasp: Quantumania\",\\n\"gross\": 106109650\\n},\\n{\\n\"date\": \"February 26, 2023\",\\n\"film\": \"\",\\n\"gross\": 31964803\\n},\\n{\\n\"date\": \"March 5, 2023\",\\n\"film\": \"Creed III\",\\n\"gross\": 58370007\\n},\\n{\\n\"date\": \"March 12, 2023\",\\n\"film\": \"Scream VI\",\\n\"gross\": 44447270\\n},\\n{\\n\"date\": \"March 19, 2023\",\\n\"film\": \"Shazam! Fury of the Gods\",\\n\"gross\": 30111158\\n},\\n{\\n\"date\": \"March 26, 2023\",\\n\"film\": \"John Wick: Chapter 4\",\\n\"gross\": 73817950\\n},\\n{\\n\"date\": \"April 2, 2023\",\\n\"film\": \"Dungeons & Dragons: Honor Among Thieves\",\\n\"gross\": 37205784\\n},\\n{\\n\"date\": \"April 9, 2023\",\\n\"film\": \"The Super Mario Bros. Movie\",\\n\"gross\": 146361865\\n},\\n{\\n\"date\": \"April 16, 2023\",\\n\"film\": \"The Super Mario Bros. Movie\",\\n\"gross\": 92347190\\n},\\n{\\n\"date\": \"April 23, 2023\",\\n\"film\": \"The Super Mario Bros. Movie\",\\n\"gross\": 59930940\\n},\\n{\\n\"date\": \"April 30, 2023\",\\n\"film\": \"The Super Mario Bros. Movie\",\\n\"gross\": 40835805\\n},\\n{\\n\"date\": \"May 7, 2023\",\\n\"film\": \"Guardians of the Galaxy Vol. 3\",\\n\"gross\": 118414021\\n},\\n{\\n\"date\": \"May 14, 2023\",\\n\"film\": \"\",\\n\"gross\": 62008548\\n},\\n{\\n\"date\": \"May 21, 2023\",\\n\"film\": \"Fast X\",\\n\"gross\": 67017410\\n},\\n{\\n\"date\": \"May 28, 2023\",\\n\"film\": \"The Little Mermaid\",\\n\"gross\": 95578040\\n},\\n{\\n\"date\": \"June 4, 2023\",\\n\"film\": \"Spider-Man: Across the Spider-Verse\",\\n\"gross\": 120663589\\n},\\n{\\n\"date\": \"June 11, 2023\",\\n\"film\": \"Transformers: Rise of the Beasts\",\\n\"gross\": 61045464\\n},\\n{\\n\"date\": \"June 18, 2023\",\\n\"film\": \"The Flash\",\\n\"gross\": 55043679\\n},\\n{\\n\"date\": \"June 25, 2023\",\\n\"film\": \"Spider-Man: Across the Spider-Verse\",\\n\"gross\": 19003633\\n},\\n{\\n\"date\": \"July 2, 2023\",\\n\"film\": \"Indiana Jones and the Dial of Destiny\",\\n\"gross\": 60368101\\n},\\n{\\n\"date\": \"July 9, 2023\",\\n\"film\": \"Insidious: The Red Door\",\\n\"gross\": 33013036\\n},\\n{\\n\"date\": \"July 16, 2023\",\\n\"film\": \"Mission: Impossible – Dead Reckoning Part One\",\\n\"gross\": 54688347\\n},\\n{\\n\"date\": \"July 23, 2023\",\\n\"film\": \"Barbie\",\\n\"gross\": 162022044\\n},\\n{\\n\"date\": \"July 30, 2023\",\\n\"film\": \"Barbie\",\\n\"gross\": 93011602\\n},\\n{\\n\"date\": \"August 6, 2023\",\\n\"film\": \"\",\\n\"gross\": 53008647\\n},\\n{\\n\"date\": \"August 13, 2023\",\\n\"film\": \"Barbie\",\\n\"gross\": 33833294\\n},\\n{\\n\"date\": \"August 20, 2023\",\\n\"film\": \"Blue Beetle\",\\n\"gross\": 25030225\\n},\\n{\\n\"date\": \"August 27, 2023\",\\n\"film\": \"Gran Turismo\",\\n\"gross\": 17410552\\n},\\n{\\n\"date\": \"September 3, 2023\",\\n\"film\": \"The Equalizer 3\",\\n\"gross\": 34604229\\n},\\n{\\n\"date\": \"September 10, 2023\",\\n\"film\": \"The Nun II\",\\n\"gross\": 32603336\\n},\\n{\\n\"date\": \"September 17, 2023\",\\n\"film\": \"Oppenheimer\",\\n\"gross\": 9127000000\\n},\\n{\\n\"date\": \"September 24, 2023\",\\n\"film\": \"\",\\n\"gross\": 8550110\\n},\\n{\\n\"date\": \"October 1, 2023\",\\n\"film\": \"PAW Patrol: The Mighty Movie\",\\n\"gross\": 22764354\\n},\\n{\\n\"date\": \"October 8, 2023\",\\n\"film\": \"The Exorcist: Believer\",\\n\"gross\": 26497600\\n},\\n{\\n\"date\": \"October 15, 2023\",\\n\"film\": \"Taylor Swift: The Eras Tour\",\\n\"gross\": 92804678\\n},\\n{\\n\"date\": \"October 22, 2023\",\\n\"film\": \"Taylor Swift: The Eras Tour\",\\n\"gross\": 33209039\\n},\\n{\\n\"date\": \"October 29, 2023\",\\n\"film\": \"Five Nights at Freddy\\'s\",\\n\"gross\": 80001720\\n},\\n{\\n\"date\": \"November 5, 2023\",\\n\"film\": \"The Marvels\",\\n\"gross\": 46110859\\n},\\n{\\n\"date\": \"November 12, 2023\",\\n\"film\": \"The Hunger Games: The Ballad of Songbirds & Snakes\",\\n\"gross\": 44607143\\n},\\n{\\n\"date\": \"November 26, 2023\",\\n\"film\": \"The Boy and the Heron\",\\n\"gross\": 13011722\\n},\\n{\\n\"date\": \"December 3, 2023\",\\n\"film\": \"Wonka\",\\n\"gross\": 39000000\\n},\\n{\\n\"date\": \"December 10, 2023\",\\n\"film\": \"The Boy and the Heron\",\\n\"gross\": 13011722\\n},\\n{\\n\"date\": \"December 17, 2023\",\\n\"film\": \"Indiana Jones and the Dial of Destiny\",\\n\"gross\": 60368101\\n},\\n{\\n\"date\": \"December 25, 2023\",\\n\"film\": \"Spider-Man: Across the Spider-Verse\",\\n\"gross\": 19001870\\n},\\n{\\n\"date\": \"December 17, 2023\",\\n\"film\": \"Wonka\",\\n\"gross\": 39000000\\n},\\n{\\n\"date\": \"December 25, 2023\",\\n\"film\": \"Spider-Man: Across the Spider-Verse\",\\n\"gross\": 19001870\\n}\\n]'"
            ],
            "application/vnd.google.colaboratory.intrinsic+json": {
              "type": "string"
            }
          },
          "metadata": {},
          "execution_count": 11
        }
      ]
    },
    {
      "cell_type": "code",
      "source": [
        "max_tries = 0"
      ],
      "metadata": {
        "id": "Eno7j3DDyCvf"
      },
      "execution_count": 12,
      "outputs": []
    },
    {
      "cell_type": "code",
      "source": [
        "while(max_tries < 3):\n",
        "  try:\n",
        "    json_objects = json.loads(completion)\n",
        "    break\n",
        "  except:\n",
        "    completion = handle_validation_failure(\"Output Not json\", prompt, max_tries)\n",
        "    max_tries+=1\n"
      ],
      "metadata": {
        "colab": {
          "base_uri": "https://localhost:8080/"
        },
        "id": "767lYl-DPHz-",
        "outputId": "ac92008d-1696-47c1-fba6-79e2e898590d"
      },
      "execution_count": 13,
      "outputs": [
        {
          "output_type": "stream",
          "name": "stdout",
          "text": [
            "[\n",
            "{\"date\": \"January 8, 2023\", \"film\": \"Avatar: The Way of Water\", \"gross\": 45838986},\n",
            "{\"date\": \"January 15, 2023\", \"film\": \"Black Panther: Wakanda Forever\", \"gross\": 32824684},\n",
            "{\"date\": \"January 22, 2023\", \"film\": \"Avatar: The Way of Water\", \"gross\": 20133106},\n",
            "{\"date\": \"January 29, 2023\", \"film\": \"Avatar: The Way of Water\", \"gross\": 15968532},\n",
            "{\"date\": \"February 5, 2023\", \"film\": \"Knock at the Cabin\", \"gross\": 14127170},\n",
            "{\"date\": \"February 12, 2023\", \"film\": \"Magic Mike's Last Dance\", \"gross\": 8305317},\n",
            "{\"date\": \"February 19, 2023\", \"film\": \"Ant-Man and the Wasp: Quantumania\", \"gross\": 106109650},\n",
            "{\"date\": \"February 26, 2023\", \"film\": null, \"gross\": 31964803},\n",
            "{\"date\": \"March 5, 2023\", \"film\": \"Creed III\", \"gross\": 58370007},\n",
            "{\"date\": \"March 12, 2023\", \"film\": \"Scream VI\", \"gross\": 44447270},\n",
            "{\"date\": \"March 19, 2023\", \"film\": \"Shazam! Fury of the Gods\", \"gross\": 30111158},\n",
            "{\"date\": \"March 26, 2023\", \"film\": \"John Wick: Chapter 4\", \"gross\": 73817950},\n",
            "{\"date\": \"April 2, 2023\", \"film\": \"Dungeons & Dragons: Honor Among Thieves\", \"gross\": 37205784},\n",
            "{\"date\": \"April 9, 2023\", \"film\": \"The Super Mario Bros. Movie\", \"gross\": 146361865},\n",
            "{\"date\": \"April 16, 2023\", \"film\": \"The Super Mario Bros. Movie\", \"gross\": 92347190},\n",
            "{\"date\": \"April 23, 2023\", \"film\": \"The Super Mario Bros. Movie\", \"gross\": 59930940},\n",
            "{\"date\": \"April 30, 2023\", \"film\": \"The Super Mario Bros. Movie\", \"gross\": 40835805},\n",
            "{\"date\": \"May 7, 2023\", \"film\": \"Guardians of the Galaxy Vol. 3\", \"gross\": 118414021},\n",
            "{\"date\": \"May 14, 2023\", \"film\": null, \"gross\": 62008548},\n",
            "{\"date\": \"May 21, 2023\", \"film\": \"Fast X\", \"gross\": 67017410},\n",
            "{\"date\": \"May 28, 2023\", \"film\": \"The Little Mermaid\", \"gross\": 95578040},\n",
            "{\"date\": \"June 4, 2023\", \"film\": \"Spider-Man: Across the Spider-Verse\", \"gross\": 120663589},\n",
            "{\"date\": \"June 11, 2023\", \"film\": \"Transformers: Rise of the Beasts\", \"gross\": 61045464},\n",
            "{\"date\": \"June 18, 2023\", \"film\": \"The Flash\", \"gross\": 55043679},\n",
            "{\"date\": \"June 25, 2023\", \"film\": \"Spider-Man: Across the Spider-Verse\", \"gross\": 19003633},\n",
            "{\"date\": \"July 2, 2023\", \"film\": \"Indiana Jones and the Dial of Destiny\", \"gross\": 60368101},\n",
            "{\"date\": \"July 9, 2023\", \"film\": \"Insidious: The Red Door\", \"gross\": 33013036},\n",
            "{\"date\": \"July 16, 2023\", \"film\": \"Mission: Impossible – Dead Reckoning Part One\", \"gross\": 54688347},\n",
            "{\"date\": \"July 23, 2023\", \"film\": \"Barbie\", \"gross\": 162022044},\n",
            "{\"date\": \"July 30, 2023\", \"film\": \"Barbie\", \"gross\": 93011602},\n",
            "{\"date\": \"August 6, 2023\", \"film\": null, \"gross\": 53008647},\n",
            "{\"date\": \"August 13, 2023\", \"film\": \"Barbie\", \"gross\": 33833294},\n",
            "{\"date\": \"August 20, 2023\", \"film\": \"Blue Beetle\", \"gross\": 25030225},\n",
            "{\"date\": \"August 27, 2023\", \"film\": \"Gran Turismo\", \"gross\": 17410552},\n",
            "{\"date\": \"September 3, 2023\", \"film\": \"The Equalizer 3\", \"gross\": 34604229},\n",
            "{\"date\": \"September 10, 2023\", \"film\": \"The Nun II\", \"gross\": 32603336},\n",
            "{\"date\": \"September 17, 2023\", \"film\": null, \"gross\": 14534579},\n",
            "{\"date\": \"September 24, 2023\", \"film\": null, \"gross\": 8550110},\n",
            "{\"date\": \"October 1, 2023\", \"film\": \"PAW Patrol: The Mighty Movie\", \"gross\": 22764354},\n",
            "{\"date\": \"October 8, 2023\", \"film\": \"The Exorcist: Believer\", \"gross\": 26497600},\n",
            "{\"date\": \"October 15, 2023\", \"film\": \"Taylor Swift: The Eras Tour\", \"gross\": 92347190},\n",
            "{\"date\": \"October 22, 2023\", \"film\": \"Taylor Swift: The Eras Tour\", \"gross\": 44447270},\n",
            "{\"date\": \"October 29, 2023\", \"film\": \"Five Nights at Freddy's\", \"gross\": 80001720},\n",
            "{\"date\": \"November 5, 2023\", \"film\": null, \"gross\": 37205784},\n",
            "{\"date\": \"November 12, 2023\", \"film\": \"The Marvels\", \"gross\": 46110859},\n",
            "{\"date\": \"November 19, 2023\", \"film\": \"The Hunger Games: The Ballad of Songbirds & Snakes\", \"gross\": 44607143},\n",
            "{\"date\": \"November 26, 2023\", \"film\": \"The Super Mario Bros. Movie\", \"gross\": 29042517},\n",
            "{\"date\": \"December 3, 2023\", \"film\": \"Wonka\", \"gross\": 120663589},\n",
            "{\"date\": \"December 10, 2023\", \"film\": \"The Boy and the Heron\", \"gross\": 13011722},\n",
            "{\"date\": \"December 17, 2023\", \"film\": \"Indiana Jones and the Dial of Destiny\", \"gross\": 60368101},\n",
            "{\"date\": \"December 24, 2023\", \"film\": \"The Flash\", \"gross\": 55043679}\n",
            "]\n"
          ]
        }
      ]
    },
    {
      "cell_type": "markdown",
      "source": [
        "Pydantic Validations for each individual json extraction. This approach is used in order to avoid regeneration everytime there is an error in a single json. Errors are extracted and displayed to the user"
      ],
      "metadata": {
        "id": "OloFi5tn1rhq"
      }
    },
    {
      "cell_type": "code",
      "source": [
        "failed = []\n",
        "validated = []\n",
        "for i in range(len(json_objects)):\n",
        "  try:\n",
        "      validated_data = WebScrape1.parse_obj(json_objects[i])\n",
        "      print(\"Validation successful!\")\n",
        "      validated.append(json_objects[i])\n",
        "      print(\"Validated data:\", validated_data.dict())\n",
        "  except ValidationError as e:\n",
        "      print(\"Validation failed!\")\n",
        "      failed.append(json_objects[i])\n",
        "      print(e.json())\n",
        "\n",
        "print(failed)"
      ],
      "metadata": {
        "colab": {
          "base_uri": "https://localhost:8080/"
        },
        "id": "FfCt75FmM__b",
        "outputId": "e365e15c-fe6c-451f-ba57-d9e5c2cb7cc8"
      },
      "execution_count": 16,
      "outputs": [
        {
          "output_type": "stream",
          "name": "stdout",
          "text": [
            "Validation successful!\n",
            "Validated data: {'date': 'January 8, 2023', 'film': 'Avatar: The Way of Water', 'gross': 45838986}\n",
            "Validation successful!\n",
            "Validated data: {'date': 'January 15, 2023', 'film': 'Black Panther: Wakanda Forever', 'gross': 32824684}\n",
            "Validation successful!\n",
            "Validated data: {'date': 'January 22, 2023', 'film': 'Avatar: The Way of Water', 'gross': 20133106}\n",
            "Validation successful!\n",
            "Validated data: {'date': 'January 29, 2023', 'film': 'Avatar: The Way of Water', 'gross': 15968532}\n",
            "Validation successful!\n",
            "Validated data: {'date': 'February 5, 2023', 'film': 'Knock at the Cabin', 'gross': 14127170}\n",
            "Validation successful!\n",
            "Validated data: {'date': 'February 12, 2023', 'film': \"Magic Mike's Last Dance\", 'gross': 8305317}\n",
            "Validation successful!\n",
            "Validated data: {'date': 'February 19, 2023', 'film': 'Ant-Man and the Wasp: Quantumania', 'gross': 106109650}\n",
            "Validation failed!\n",
            "[{\"type\":\"string_type\",\"loc\":[\"film\"],\"msg\":\"Input should be a valid string\",\"input\":null,\"url\":\"https://errors.pydantic.dev/2.3/v/string_type\"}]\n",
            "Validation successful!\n",
            "Validated data: {'date': 'March 5, 2023', 'film': 'Creed III', 'gross': 58370007}\n",
            "Validation successful!\n",
            "Validated data: {'date': 'March 12, 2023', 'film': 'Scream VI', 'gross': 44447270}\n",
            "Validation successful!\n",
            "Validated data: {'date': 'March 19, 2023', 'film': 'Shazam! Fury of the Gods', 'gross': 30111158}\n",
            "Validation successful!\n",
            "Validated data: {'date': 'March 26, 2023', 'film': 'John Wick: Chapter 4', 'gross': 73817950}\n",
            "Validation successful!\n",
            "Validated data: {'date': 'April 2, 2023', 'film': 'Dungeons & Dragons: Honor Among Thieves', 'gross': 37205784}\n",
            "Validation successful!\n",
            "Validated data: {'date': 'April 9, 2023', 'film': 'The Super Mario Bros. Movie', 'gross': 146361865}\n",
            "Validation successful!\n",
            "Validated data: {'date': 'April 16, 2023', 'film': 'The Super Mario Bros. Movie', 'gross': 92347190}\n",
            "Validation successful!\n",
            "Validated data: {'date': 'April 23, 2023', 'film': 'The Super Mario Bros. Movie', 'gross': 59930940}\n",
            "Validation successful!\n",
            "Validated data: {'date': 'April 30, 2023', 'film': 'The Super Mario Bros. Movie', 'gross': 40835805}\n",
            "Validation successful!\n",
            "Validated data: {'date': 'May 7, 2023', 'film': 'Guardians of the Galaxy Vol. 3', 'gross': 118414021}\n",
            "Validation failed!\n",
            "[{\"type\":\"string_type\",\"loc\":[\"film\"],\"msg\":\"Input should be a valid string\",\"input\":null,\"url\":\"https://errors.pydantic.dev/2.3/v/string_type\"}]\n",
            "Validation successful!\n",
            "Validated data: {'date': 'May 21, 2023', 'film': 'Fast X', 'gross': 67017410}\n",
            "Validation successful!\n",
            "Validated data: {'date': 'May 28, 2023', 'film': 'The Little Mermaid', 'gross': 95578040}\n",
            "Validation successful!\n",
            "Validated data: {'date': 'June 4, 2023', 'film': 'Spider-Man: Across the Spider-Verse', 'gross': 120663589}\n",
            "Validation successful!\n",
            "Validated data: {'date': 'June 11, 2023', 'film': 'Transformers: Rise of the Beasts', 'gross': 61045464}\n",
            "Validation successful!\n",
            "Validated data: {'date': 'June 18, 2023', 'film': 'The Flash', 'gross': 55043679}\n",
            "Validation successful!\n",
            "Validated data: {'date': 'June 25, 2023', 'film': 'Spider-Man: Across the Spider-Verse', 'gross': 19003633}\n",
            "Validation successful!\n",
            "Validated data: {'date': 'July 2, 2023', 'film': 'Indiana Jones and the Dial of Destiny', 'gross': 60368101}\n",
            "Validation successful!\n",
            "Validated data: {'date': 'July 9, 2023', 'film': 'Insidious: The Red Door', 'gross': 33013036}\n",
            "Validation successful!\n",
            "Validated data: {'date': 'July 16, 2023', 'film': 'Mission: Impossible – Dead Reckoning Part One', 'gross': 54688347}\n",
            "Validation successful!\n",
            "Validated data: {'date': 'July 23, 2023', 'film': 'Barbie', 'gross': 162022044}\n",
            "Validation successful!\n",
            "Validated data: {'date': 'July 30, 2023', 'film': 'Barbie', 'gross': 93011602}\n",
            "Validation failed!\n",
            "[{\"type\":\"string_type\",\"loc\":[\"film\"],\"msg\":\"Input should be a valid string\",\"input\":null,\"url\":\"https://errors.pydantic.dev/2.3/v/string_type\"}]\n",
            "Validation successful!\n",
            "Validated data: {'date': 'August 13, 2023', 'film': 'Barbie', 'gross': 33833294}\n",
            "Validation successful!\n",
            "Validated data: {'date': 'August 20, 2023', 'film': 'Blue Beetle', 'gross': 25030225}\n",
            "Validation successful!\n",
            "Validated data: {'date': 'August 27, 2023', 'film': 'Gran Turismo', 'gross': 17410552}\n",
            "Validation successful!\n",
            "Validated data: {'date': 'September 3, 2023', 'film': 'The Equalizer 3', 'gross': 34604229}\n",
            "Validation successful!\n",
            "Validated data: {'date': 'September 10, 2023', 'film': 'The Nun II', 'gross': 32603336}\n",
            "Validation failed!\n",
            "[{\"type\":\"string_type\",\"loc\":[\"film\"],\"msg\":\"Input should be a valid string\",\"input\":null,\"url\":\"https://errors.pydantic.dev/2.3/v/string_type\"}]\n",
            "Validation failed!\n",
            "[{\"type\":\"string_type\",\"loc\":[\"film\"],\"msg\":\"Input should be a valid string\",\"input\":null,\"url\":\"https://errors.pydantic.dev/2.3/v/string_type\"}]\n",
            "Validation successful!\n",
            "Validated data: {'date': 'October 1, 2023', 'film': 'PAW Patrol: The Mighty Movie', 'gross': 22764354}\n",
            "Validation successful!\n",
            "Validated data: {'date': 'October 8, 2023', 'film': 'The Exorcist: Believer', 'gross': 26497600}\n",
            "Validation successful!\n",
            "Validated data: {'date': 'October 15, 2023', 'film': 'Taylor Swift: The Eras Tour', 'gross': 92347190}\n",
            "Validation successful!\n",
            "Validated data: {'date': 'October 22, 2023', 'film': 'Taylor Swift: The Eras Tour', 'gross': 44447270}\n",
            "Validation successful!\n",
            "Validated data: {'date': 'October 29, 2023', 'film': \"Five Nights at Freddy's\", 'gross': 80001720}\n",
            "Validation failed!\n",
            "[{\"type\":\"string_type\",\"loc\":[\"film\"],\"msg\":\"Input should be a valid string\",\"input\":null,\"url\":\"https://errors.pydantic.dev/2.3/v/string_type\"}]\n",
            "Validation successful!\n",
            "Validated data: {'date': 'November 12, 2023', 'film': 'The Marvels', 'gross': 46110859}\n",
            "Validation successful!\n",
            "Validated data: {'date': 'November 19, 2023', 'film': 'The Hunger Games: The Ballad of Songbirds & Snakes', 'gross': 44607143}\n",
            "Validation successful!\n",
            "Validated data: {'date': 'November 26, 2023', 'film': 'The Super Mario Bros. Movie', 'gross': 29042517}\n",
            "Validation successful!\n",
            "Validated data: {'date': 'December 3, 2023', 'film': 'Wonka', 'gross': 120663589}\n",
            "Validation successful!\n",
            "Validated data: {'date': 'December 10, 2023', 'film': 'The Boy and the Heron', 'gross': 13011722}\n",
            "Validation successful!\n",
            "Validated data: {'date': 'December 17, 2023', 'film': 'Indiana Jones and the Dial of Destiny', 'gross': 60368101}\n",
            "Validation successful!\n",
            "Validated data: {'date': 'December 24, 2023', 'film': 'The Flash', 'gross': 55043679}\n",
            "[{'date': 'February 26, 2023', 'film': None, 'gross': 31964803}, {'date': 'May 14, 2023', 'film': None, 'gross': 62008548}, {'date': 'August 6, 2023', 'film': None, 'gross': 53008647}, {'date': 'September 17, 2023', 'film': None, 'gross': 14534579}, {'date': 'September 24, 2023', 'film': None, 'gross': 8550110}, {'date': 'November 5, 2023', 'film': None, 'gross': 37205784}]\n"
          ]
        },
        {
          "output_type": "stream",
          "name": "stderr",
          "text": [
            "<ipython-input-16-63b98083a3f4>:5: PydanticDeprecatedSince20: The `parse_obj` method is deprecated; use `model_validate` instead. Deprecated in Pydantic V2.0 to be removed in V3.0. See Pydantic V2 Migration Guide at https://errors.pydantic.dev/2.3/migration/\n",
            "  validated_data = WebScrape1.parse_obj(json_objects[i])\n",
            "<ipython-input-16-63b98083a3f4>:8: PydanticDeprecatedSince20: The `dict` method is deprecated; use `model_dump` instead. Deprecated in Pydantic V2.0 to be removed in V3.0. See Pydantic V2 Migration Guide at https://errors.pydantic.dev/2.3/migration/\n",
            "  print(\"Validated data:\", validated_data.dict())\n"
          ]
        }
      ]
    },
    {
      "cell_type": "markdown",
      "source": [
        "Displaying the failed prompts"
      ],
      "metadata": {
        "id": "UBQztxys2JqR"
      }
    },
    {
      "cell_type": "code",
      "source": [
        "for i in failed:\n",
        "  print(i)"
      ],
      "metadata": {
        "colab": {
          "base_uri": "https://localhost:8080/"
        },
        "id": "nH5-KmFnd0EL",
        "outputId": "cf36f2ee-4372-416e-cc4b-a3ec26e72231"
      },
      "execution_count": 17,
      "outputs": [
        {
          "output_type": "stream",
          "name": "stdout",
          "text": [
            "{'date': 'February 26, 2023', 'film': None, 'gross': 31964803}\n",
            "{'date': 'May 14, 2023', 'film': None, 'gross': 62008548}\n",
            "{'date': 'August 6, 2023', 'film': None, 'gross': 53008647}\n",
            "{'date': 'September 17, 2023', 'film': None, 'gross': 14534579}\n",
            "{'date': 'September 24, 2023', 'film': None, 'gross': 8550110}\n",
            "{'date': 'November 5, 2023', 'film': None, 'gross': 37205784}\n"
          ]
        }
      ]
    },
    {
      "cell_type": "code",
      "source": [
        "for i in validated:\n",
        "  print(i)"
      ],
      "metadata": {
        "colab": {
          "base_uri": "https://localhost:8080/"
        },
        "id": "AFs0iKhl3V7J",
        "outputId": "e3d9f8ca-8672-4865-a5d1-d0a14babac7e"
      },
      "execution_count": 18,
      "outputs": [
        {
          "output_type": "stream",
          "name": "stdout",
          "text": [
            "{'date': 'January 8, 2023', 'film': 'Avatar: The Way of Water', 'gross': 45838986}\n",
            "{'date': 'January 15, 2023', 'film': 'Black Panther: Wakanda Forever', 'gross': 32824684}\n",
            "{'date': 'January 22, 2023', 'film': 'Avatar: The Way of Water', 'gross': 20133106}\n",
            "{'date': 'January 29, 2023', 'film': 'Avatar: The Way of Water', 'gross': 15968532}\n",
            "{'date': 'February 5, 2023', 'film': 'Knock at the Cabin', 'gross': 14127170}\n",
            "{'date': 'February 12, 2023', 'film': \"Magic Mike's Last Dance\", 'gross': 8305317}\n",
            "{'date': 'February 19, 2023', 'film': 'Ant-Man and the Wasp: Quantumania', 'gross': 106109650}\n",
            "{'date': 'March 5, 2023', 'film': 'Creed III', 'gross': 58370007}\n",
            "{'date': 'March 12, 2023', 'film': 'Scream VI', 'gross': 44447270}\n",
            "{'date': 'March 19, 2023', 'film': 'Shazam! Fury of the Gods', 'gross': 30111158}\n",
            "{'date': 'March 26, 2023', 'film': 'John Wick: Chapter 4', 'gross': 73817950}\n",
            "{'date': 'April 2, 2023', 'film': 'Dungeons & Dragons: Honor Among Thieves', 'gross': 37205784}\n",
            "{'date': 'April 9, 2023', 'film': 'The Super Mario Bros. Movie', 'gross': 146361865}\n",
            "{'date': 'April 16, 2023', 'film': 'The Super Mario Bros. Movie', 'gross': 92347190}\n",
            "{'date': 'April 23, 2023', 'film': 'The Super Mario Bros. Movie', 'gross': 59930940}\n",
            "{'date': 'April 30, 2023', 'film': 'The Super Mario Bros. Movie', 'gross': 40835805}\n",
            "{'date': 'May 7, 2023', 'film': 'Guardians of the Galaxy Vol. 3', 'gross': 118414021}\n",
            "{'date': 'May 21, 2023', 'film': 'Fast X', 'gross': 67017410}\n",
            "{'date': 'May 28, 2023', 'film': 'The Little Mermaid', 'gross': 95578040}\n",
            "{'date': 'June 4, 2023', 'film': 'Spider-Man: Across the Spider-Verse', 'gross': 120663589}\n",
            "{'date': 'June 11, 2023', 'film': 'Transformers: Rise of the Beasts', 'gross': 61045464}\n",
            "{'date': 'June 18, 2023', 'film': 'The Flash', 'gross': 55043679}\n",
            "{'date': 'June 25, 2023', 'film': 'Spider-Man: Across the Spider-Verse', 'gross': 19003633}\n",
            "{'date': 'July 2, 2023', 'film': 'Indiana Jones and the Dial of Destiny', 'gross': 60368101}\n",
            "{'date': 'July 9, 2023', 'film': 'Insidious: The Red Door', 'gross': 33013036}\n",
            "{'date': 'July 16, 2023', 'film': 'Mission: Impossible – Dead Reckoning Part One', 'gross': 54688347}\n",
            "{'date': 'July 23, 2023', 'film': 'Barbie', 'gross': 162022044}\n",
            "{'date': 'July 30, 2023', 'film': 'Barbie', 'gross': 93011602}\n",
            "{'date': 'August 13, 2023', 'film': 'Barbie', 'gross': 33833294}\n",
            "{'date': 'August 20, 2023', 'film': 'Blue Beetle', 'gross': 25030225}\n",
            "{'date': 'August 27, 2023', 'film': 'Gran Turismo', 'gross': 17410552}\n",
            "{'date': 'September 3, 2023', 'film': 'The Equalizer 3', 'gross': 34604229}\n",
            "{'date': 'September 10, 2023', 'film': 'The Nun II', 'gross': 32603336}\n",
            "{'date': 'October 1, 2023', 'film': 'PAW Patrol: The Mighty Movie', 'gross': 22764354}\n",
            "{'date': 'October 8, 2023', 'film': 'The Exorcist: Believer', 'gross': 26497600}\n",
            "{'date': 'October 15, 2023', 'film': 'Taylor Swift: The Eras Tour', 'gross': 92347190}\n",
            "{'date': 'October 22, 2023', 'film': 'Taylor Swift: The Eras Tour', 'gross': 44447270}\n",
            "{'date': 'October 29, 2023', 'film': \"Five Nights at Freddy's\", 'gross': 80001720}\n",
            "{'date': 'November 12, 2023', 'film': 'The Marvels', 'gross': 46110859}\n",
            "{'date': 'November 19, 2023', 'film': 'The Hunger Games: The Ballad of Songbirds & Snakes', 'gross': 44607143}\n",
            "{'date': 'November 26, 2023', 'film': 'The Super Mario Bros. Movie', 'gross': 29042517}\n",
            "{'date': 'December 3, 2023', 'film': 'Wonka', 'gross': 120663589}\n",
            "{'date': 'December 10, 2023', 'film': 'The Boy and the Heron', 'gross': 13011722}\n",
            "{'date': 'December 17, 2023', 'film': 'Indiana Jones and the Dial of Destiny', 'gross': 60368101}\n",
            "{'date': 'December 24, 2023', 'film': 'The Flash', 'gross': 55043679}\n"
          ]
        }
      ]
    },
    {
      "cell_type": "code",
      "source": [],
      "metadata": {
        "id": "Lt1ZUSM03iHK"
      },
      "execution_count": null,
      "outputs": []
    }
  ]
}