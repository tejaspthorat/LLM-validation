{
  "nbformat": 4,
  "nbformat_minor": 0,
  "metadata": {
    "colab": {
      "provenance": []
    },
    "kernelspec": {
      "name": "python3",
      "display_name": "Python 3"
    },
    "language_info": {
      "name": "python"
    }
  },
  "cells": [
    {
      "cell_type": "markdown",
      "source": [
        "Pydantic validation of LLM response to make sure its in json format with right data types."
      ],
      "metadata": {
        "id": "JwufyYaIz4jM"
      }
    },
    {
      "cell_type": "code",
      "execution_count": 1,
      "metadata": {
        "colab": {
          "base_uri": "https://localhost:8080/"
        },
        "id": "EnpjAJ1eGMTH",
        "outputId": "a7768aac-0988-409e-9cd6-450accf6197c"
      },
      "outputs": [
        {
          "output_type": "stream",
          "name": "stdout",
          "text": [
            "Collecting fireworks-ai\n",
            "  Downloading fireworks_ai-0.9.0-py3-none-any.whl (75 kB)\n",
            "\u001b[2K     \u001b[90m━━━━━━━━━━━━━━━━━━━━━━━━━━━━━━━━━━━━━━━━\u001b[0m \u001b[32m75.3/75.3 kB\u001b[0m \u001b[31m577.1 kB/s\u001b[0m eta \u001b[36m0:00:00\u001b[0m\n",
            "\u001b[?25hCollecting httpx (from fireworks-ai)\n",
            "  Downloading httpx-0.25.2-py3-none-any.whl (74 kB)\n",
            "\u001b[2K     \u001b[90m━━━━━━━━━━━━━━━━━━━━━━━━━━━━━━━━━━━━━━━━\u001b[0m \u001b[32m75.0/75.0 kB\u001b[0m \u001b[31m2.2 MB/s\u001b[0m eta \u001b[36m0:00:00\u001b[0m\n",
            "\u001b[?25hCollecting httpx-sse (from fireworks-ai)\n",
            "  Downloading httpx_sse-0.3.1-py3-none-any.whl (7.7 kB)\n",
            "Requirement already satisfied: pydantic in /usr/local/lib/python3.10/dist-packages (from fireworks-ai) (1.10.13)\n",
            "Requirement already satisfied: Pillow in /usr/local/lib/python3.10/dist-packages (from fireworks-ai) (9.4.0)\n",
            "Requirement already satisfied: anyio in /usr/local/lib/python3.10/dist-packages (from httpx->fireworks-ai) (3.7.1)\n",
            "Requirement already satisfied: certifi in /usr/local/lib/python3.10/dist-packages (from httpx->fireworks-ai) (2023.11.17)\n",
            "Collecting httpcore==1.* (from httpx->fireworks-ai)\n",
            "  Downloading httpcore-1.0.2-py3-none-any.whl (76 kB)\n",
            "\u001b[2K     \u001b[90m━━━━━━━━━━━━━━━━━━━━━━━━━━━━━━━━━━━━━━━━\u001b[0m \u001b[32m76.9/76.9 kB\u001b[0m \u001b[31m4.8 MB/s\u001b[0m eta \u001b[36m0:00:00\u001b[0m\n",
            "\u001b[?25hRequirement already satisfied: idna in /usr/local/lib/python3.10/dist-packages (from httpx->fireworks-ai) (3.6)\n",
            "Requirement already satisfied: sniffio in /usr/local/lib/python3.10/dist-packages (from httpx->fireworks-ai) (1.3.0)\n",
            "Collecting h11<0.15,>=0.13 (from httpcore==1.*->httpx->fireworks-ai)\n",
            "  Downloading h11-0.14.0-py3-none-any.whl (58 kB)\n",
            "\u001b[2K     \u001b[90m━━━━━━━━━━━━━━━━━━━━━━━━━━━━━━━━━━━━━━━━\u001b[0m \u001b[32m58.3/58.3 kB\u001b[0m \u001b[31m5.4 MB/s\u001b[0m eta \u001b[36m0:00:00\u001b[0m\n",
            "\u001b[?25hRequirement already satisfied: typing-extensions>=4.2.0 in /usr/local/lib/python3.10/dist-packages (from pydantic->fireworks-ai) (4.5.0)\n",
            "Requirement already satisfied: exceptiongroup in /usr/local/lib/python3.10/dist-packages (from anyio->httpx->fireworks-ai) (1.2.0)\n",
            "Installing collected packages: httpx-sse, h11, httpcore, httpx, fireworks-ai\n",
            "Successfully installed fireworks-ai-0.9.0 h11-0.14.0 httpcore-1.0.2 httpx-0.25.2 httpx-sse-0.3.1\n"
          ]
        }
      ],
      "source": [
        "!pip install --upgrade fireworks-ai\n"
      ]
    },
    {
      "cell_type": "code",
      "source": [
        "!pip install pydantic==2.5.0\n",
        "!pip install pydantic-core==2.14.1"
      ],
      "metadata": {
        "colab": {
          "base_uri": "https://localhost:8080/"
        },
        "id": "xiLir2gEYciL",
        "outputId": "8686232f-1bc9-4a4e-f32d-629b23291eff"
      },
      "execution_count": null,
      "outputs": [
        {
          "output_type": "stream",
          "name": "stdout",
          "text": [
            "Collecting pydantic==2.5.0\n",
            "  Downloading pydantic-2.5.0-py3-none-any.whl (407 kB)\n",
            "\u001b[2K     \u001b[90m━━━━━━━━━━━━━━━━━━━━━━━━━━━━━━━━━━━━━━━━\u001b[0m \u001b[32m407.5/407.5 kB\u001b[0m \u001b[31m2.2 MB/s\u001b[0m eta \u001b[36m0:00:00\u001b[0m\n",
            "\u001b[?25hCollecting annotated-types>=0.4.0 (from pydantic==2.5.0)\n",
            "  Downloading annotated_types-0.6.0-py3-none-any.whl (12 kB)\n",
            "Collecting pydantic-core==2.14.1 (from pydantic==2.5.0)\n",
            "  Downloading pydantic_core-2.14.1-cp310-cp310-manylinux_2_17_x86_64.manylinux2014_x86_64.whl (2.1 MB)\n",
            "\u001b[2K     \u001b[90m━━━━━━━━━━━━━━━━━━━━━━━━━━━━━━━━━━━━━━━━\u001b[0m \u001b[32m2.1/2.1 MB\u001b[0m \u001b[31m15.3 MB/s\u001b[0m eta \u001b[36m0:00:00\u001b[0m\n",
            "\u001b[?25hCollecting typing-extensions>=4.6.1 (from pydantic==2.5.0)\n",
            "  Downloading typing_extensions-4.9.0-py3-none-any.whl (32 kB)\n"
          ]
        }
      ]
    },
    {
      "cell_type": "code",
      "source": [
        "\n",
        "import fireworks.client\n",
        "\n"
      ],
      "metadata": {
        "id": "veOrqBfYGSeQ"
      },
      "execution_count": null,
      "outputs": []
    },
    {
      "cell_type": "code",
      "source": [
        "fireworks.client.api_key = \"W4etuSqWlXPUIa8gsuz8g9kCvz6KGNsSF4q8FePNjpBLOgfF\""
      ],
      "metadata": {
        "id": "rmpLE9IGGUSo"
      },
      "execution_count": null,
      "outputs": []
    },
    {
      "cell_type": "markdown",
      "source": [
        "Web scrapping https://en.wikipedia.org/wiki/List_of_2023_box_office_number-one_films_in_the_United_States .\n",
        "I have only extracted data from the table\n",
        "\n"
      ],
      "metadata": {
        "id": "HdnNlmfC0XtG"
      }
    },
    {
      "cell_type": "code",
      "source": [
        "import requests\n",
        "from bs4 import BeautifulSoup\n",
        "\n",
        "def scrape_box_office(url):\n",
        "    response = requests.get(url)\n",
        "    if response.status_code == 200:\n",
        "        soup = BeautifulSoup(response.text, 'html.parser')\n",
        "        table = soup.find('table', {'class': 'wikitable'})\n",
        "        box_office_data = []\n",
        "        for row in table.find_all('tr')[1:]:\n",
        "            columns = row.find_all(['th', 'td'])\n",
        "            data = [column.get_text(strip=True) for column in columns]\n",
        "            box_office_data.append(data)\n",
        "\n",
        "        return box_office_data\n",
        "    else:\n",
        "        print(f\"Error: Unable to fetch data. Status Code: {response.status_code}\")\n",
        "\n",
        "url = 'https://en.wikipedia.org/wiki/List_of_2023_box_office_number-one_films_in_the_United_States'\n",
        "\n",
        "result = scrape_box_office(url)\n",
        "string = \"\"\n",
        "for row in result:\n",
        "    for i in range(len(row)):\n",
        "      if i==0:\n",
        "        pass\n",
        "      else:\n",
        "        string += row[i] + \" \"\n",
        "    string += '\\n'\n",
        "\n",
        "\n",
        "print(string)"
      ],
      "metadata": {
        "id": "DfD2SK92GV9C"
      },
      "execution_count": null,
      "outputs": []
    },
    {
      "cell_type": "markdown",
      "source": [
        "Specifying a pydantic schema"
      ],
      "metadata": {
        "id": "iVDfYmR50qli"
      }
    },
    {
      "cell_type": "code",
      "source": [
        "from pydantic import BaseModel, ValidationError\n",
        "import json\n",
        "class WebScrape1(BaseModel):\n",
        "    date: str\n",
        "    film: str\n",
        "    gross: int"
      ],
      "metadata": {
        "id": "HmgM_tdsGXxe"
      },
      "execution_count": null,
      "outputs": []
    },
    {
      "cell_type": "code",
      "source": [
        "response_schema_dict = WebScrape1.model_json_schema()\n",
        "response_schema_json = json.dumps(response_schema_dict)\n",
        "response_schema_json"
      ],
      "metadata": {
        "id": "R7UWt0LuGoaU"
      },
      "execution_count": null,
      "outputs": []
    },
    {
      "cell_type": "markdown",
      "source": [
        "Creating a prompt"
      ],
      "metadata": {
        "id": "RTzIvwjN0xCd"
      }
    },
    {
      "cell_type": "code",
      "source": [
        "# question = \"1 January 8, 2023 Avatar: The Way of Water $45,838,986 Black Panther: Wakanda ForeverandAvatar: The Way of Waterbecame the first two films to consecutively top the box office for four consecutive weekends each sinceThe Hunger Games: Mockingjay – Part 2andStar Wars: The Force Awakensin 2015 and 2016. [2] \"\n",
        "prompt = f\"\"\"I will provide you with a unstructured data and you have to convert it into the following format and Do not include the provided properties json in the output:\n",
        "```json\n",
        "{response_schema_dict}\n",
        "```\n",
        "Make sure you only have the required json as output and no other text.\n",
        "\n",
        "Data: {string}\n",
        "\n",
        "only generate extracted data json.\n",
        "The provided format should be strictly followed.\n",
        "\n",
        "\"\"\""
      ],
      "metadata": {
        "id": "_a-FoAUHGx4i"
      },
      "execution_count": null,
      "outputs": []
    },
    {
      "cell_type": "code",
      "source": [
        "prompt"
      ],
      "metadata": {
        "id": "QJ_Cql1JK4Px"
      },
      "execution_count": null,
      "outputs": []
    },
    {
      "cell_type": "markdown",
      "source": [
        "Creating functions for text generation and error handling"
      ],
      "metadata": {
        "id": "MDMWu_vO043T"
      }
    },
    {
      "cell_type": "code",
      "source": [
        "def askLLM(prompt):\n",
        "    completion = fireworks.client.ChatCompletion.create(\n",
        "    model=\"accounts/fireworks/models/mixtral-8x7b-instruct\",\n",
        "    messages=[\n",
        "      {\n",
        "        \"role\": \"user\",\n",
        "        \"content\": prompt,\n",
        "      }\n",
        "    ],\n",
        "    n=1,\n",
        "    max_tokens=4000,\n",
        "    temperature=0.1,\n",
        "    top_p=0.9,\n",
        "   )\n",
        "    return completion.choices[0].message.content\n",
        "\n",
        "\n",
        "def handle_validation_failure(error, prompt, num_tries):\n",
        "  if num_tries > 3:\n",
        "    return \"Couldnt validate LLM response\"\n",
        "  else:\n",
        "    out = askLLM(error + prompt+ \"Make sure the output is json\")\n",
        "    print(out)\n",
        "    return out\n"
      ],
      "metadata": {
        "id": "iGKn1PypqrRP"
      },
      "execution_count": null,
      "outputs": []
    },
    {
      "cell_type": "markdown",
      "source": [
        "Providing initial prompt and viewing the results"
      ],
      "metadata": {
        "id": "WY39Ie5_1ff7"
      }
    },
    {
      "cell_type": "code",
      "source": [
        "completion = askLLM(prompt)"
      ],
      "metadata": {
        "id": "mwfHbJX2K5u6"
      },
      "execution_count": null,
      "outputs": []
    },
    {
      "cell_type": "code",
      "source": [
        "completion"
      ],
      "metadata": {
        "id": "WCcB5Sz3LXQu"
      },
      "execution_count": null,
      "outputs": []
    },
    {
      "cell_type": "code",
      "source": [
        "max_tries = 0"
      ],
      "metadata": {
        "id": "Eno7j3DDyCvf"
      },
      "execution_count": null,
      "outputs": []
    },
    {
      "cell_type": "code",
      "source": [
        "while(max_tries < 3):\n",
        "  try:\n",
        "    json_objects = json.loads(completion)\n",
        "    break\n",
        "  except:\n",
        "    completion = handle_validation_failure(\"Output Not json\", prompt, max_tries)\n",
        "    max_tries+=1\n"
      ],
      "metadata": {
        "id": "767lYl-DPHz-"
      },
      "execution_count": null,
      "outputs": []
    },
    {
      "cell_type": "markdown",
      "source": [
        "Pydantic Validations for each individual json extraction. This approach is used in order to avoid regeneration everytime there is an error in a single json. Errors are extracted and displayed to the user"
      ],
      "metadata": {
        "id": "OloFi5tn1rhq"
      }
    },
    {
      "cell_type": "code",
      "source": [
        "failed = []\n",
        "validated = []\n",
        "for i in range(len(json_objects)):\n",
        "  try:\n",
        "      validated_data = WebScrape1.parse_obj(json_objects[i])\n",
        "      print(\"Validation successful!\")\n",
        "      validated.append(json_objects[i])\n",
        "      print(\"Validated data:\", validated_data.dict())\n",
        "  except ValidationError as e:\n",
        "      print(\"Validation failed!\")\n",
        "      failed.append(json_objects[i])\n",
        "      print(e.json())\n",
        "\n",
        "print(failed)"
      ],
      "metadata": {
        "id": "FfCt75FmM__b"
      },
      "execution_count": null,
      "outputs": []
    },
    {
      "cell_type": "markdown",
      "source": [
        "Displaying the failed prompts"
      ],
      "metadata": {
        "id": "UBQztxys2JqR"
      }
    },
    {
      "cell_type": "code",
      "source": [
        "for i in failed:\n",
        "  print(i)"
      ],
      "metadata": {
        "id": "nH5-KmFnd0EL"
      },
      "execution_count": null,
      "outputs": []
    },
    {
      "cell_type": "code",
      "source": [
        "for i in validated:\n",
        "  print(i)"
      ],
      "metadata": {
        "id": "AFs0iKhl3V7J"
      },
      "execution_count": null,
      "outputs": []
    },
    {
      "cell_type": "markdown",
      "source": [
        "Sorting by date"
      ],
      "metadata": {
        "id": "ai2x6QZDFXV2"
      }
    },
    {
      "cell_type": "code",
      "source": [
        "prompt = f\"\"\"I will provide you with a unstructured data and you have to convert it into the following format and Do not include the provided properties json in the output:\n",
        "```json\n",
        "{response_schema_dict}\n",
        "```\n",
        "Make sure you only have the required json as output and no other text.\n",
        "\n",
        "Data: {string}\n",
        "\n",
        "only generate extracted data json. Sort the data according to the gross revenue.\n",
        "The provided format should be strictly followed.\n",
        "\n",
        "\"\"\""
      ],
      "metadata": {
        "id": "Lt1ZUSM03iHK"
      },
      "execution_count": null,
      "outputs": []
    },
    {
      "cell_type": "code",
      "source": [
        "completion_new = askLLM(prompt)"
      ],
      "metadata": {
        "id": "13uotRWvFTOz"
      },
      "execution_count": null,
      "outputs": []
    },
    {
      "cell_type": "code",
      "source": [
        "max_tries = 0"
      ],
      "metadata": {
        "id": "PI_ApnX0Id5c"
      },
      "execution_count": null,
      "outputs": []
    },
    {
      "cell_type": "code",
      "source": [
        "\n",
        "while(max_tries < 3):\n",
        "  try:\n",
        "    json_objects1 = json.loads(completion_new)\n",
        "    break\n",
        "  except:\n",
        "    completion_new = handle_validation_failure(\"Output Not json, do not produce schema in the response again\", prompt, max_tries)\n",
        "    max_tries+=1\n",
        "    print(f\"Try {max_tries}\")"
      ],
      "metadata": {
        "id": "5cwwlouZF_vW"
      },
      "execution_count": null,
      "outputs": []
    },
    {
      "cell_type": "code",
      "source": [
        "completion_new"
      ],
      "metadata": {
        "id": "Zpv7HBdUHkHR"
      },
      "execution_count": null,
      "outputs": []
    },
    {
      "cell_type": "code",
      "source": [
        "json_objects1"
      ],
      "metadata": {
        "id": "pL2bScsOILXf"
      },
      "execution_count": null,
      "outputs": []
    },
    {
      "cell_type": "code",
      "source": [
        "failed = []\n",
        "validated = []\n",
        "for i in range(len(json_objects1)):\n",
        "  try:\n",
        "      validated_data = WebScrape1.parse_obj(json_objects1[i])\n",
        "      print(\"Validation successful!\")\n",
        "      validated.append(json_objects1[i])\n",
        "      print(\"Validated data:\", validated_data.dict())\n",
        "  except ValidationError as e:\n",
        "      print(\"Validation failed!\")\n",
        "      failed.append(json_objects1[i])\n",
        "      print(e.json())\n",
        "\n",
        "print(failed)"
      ],
      "metadata": {
        "id": "TAOx_zN3Gpjg"
      },
      "execution_count": null,
      "outputs": []
    },
    {
      "cell_type": "code",
      "source": [
        "for i in validated:\n",
        "  print(i)"
      ],
      "metadata": {
        "id": "rbd78I7nMgWa"
      },
      "execution_count": null,
      "outputs": []
    },
    {
      "cell_type": "code",
      "source": [],
      "metadata": {
        "id": "LMHao2d9Mlec"
      },
      "execution_count": null,
      "outputs": []
    }
  ]
}